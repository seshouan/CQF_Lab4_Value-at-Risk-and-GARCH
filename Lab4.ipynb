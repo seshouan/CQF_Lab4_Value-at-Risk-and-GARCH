{
 "cells": [
  {
   "cell_type": "code",
   "execution_count": null,
   "id": "25943ebe-9713-4df0-917e-12779588225e",
   "metadata": {},
   "outputs": [],
   "source": [
    "# Import warnings\n",
    "import warnings\n",
    "warnings.filterwarnings('ignore')\n",
    "\n",
    "# Import data manipulation libraries\n",
    "import pandas as pd\n",
    "import numpy as np\n",
    "from pprint import pprint\n",
    "from collections import OrderedDict\n",
    "from numpy.linalg import multi_dot\n",
    "from scipy import stats\n",
    "from tabulate import tabulate\n",
    "\n",
    "# Import plotly express\n",
    "import plotly.express as px\n",
    "px.defaults.width, px.defaults.height = 1000, 600\n",
    "# Set precision\n",
    "pd.set_option('display.precision', 4)"
   ]
  },
  {
   "cell_type": "code",
   "execution_count": null,
   "id": "9781b790-7833-4195-bb97-4826cf637894",
   "metadata": {},
   "outputs": [],
   "source": [
    "# Import & Initialize database\n",
    "import sqlalchemy\n",
    "engine = sqlalchemy.create_engine('sqlite:///India')"
   ]
  },
  {
   "cell_type": "code",
   "execution_count": null,
   "id": "c090b9d3-f3fa-46d4-989e-2a6c75a141a1",
   "metadata": {},
   "outputs": [],
   "source": [
    "# Specify assets / stocks\n",
    "assets = sorted(['ICICIBANK', 'ITC', 'RELIANCE', 'TCS', 'ASIANPAINT'])\n",
    "print(assets)"
   ]
  },
  {
   "cell_type": "code",
   "execution_count": null,
   "id": "f40fcab9-b000-484c-9c0c-3b28b7ee4945",
   "metadata": {},
   "outputs": [],
   "source": [
    "# Query close price from database\n",
    "# Refer lab 3 and 1 for further details\n",
    "df = pd.DataFrame()\n",
    "\n",
    "for asset in assets:\n",
    "    df1 = pd.read_sql_query(f'SELECT Date, Close FROM {asset}', engine, index_col='Date')\n",
    "    df1.columns = [asset]\n",
    "    df = pd.concat([df, df1], axis=1)\n",
    "\n",
    "# View dataframe\n",
    "df"
   ]
  },
  {
   "cell_type": "code",
   "execution_count": null,
   "id": "0d642122-a884-45c2-9ba6-c75857b2de62",
   "metadata": {},
   "outputs": [],
   "source": [
    "# Calculate daily returns\n",
    "returns = df.pct_change().dropna()\n",
    "returns.head()"
   ]
  },
  {
   "cell_type": "code",
   "execution_count": null,
   "id": "23e8f38a-f326-4a43-b378-f638ee8cd79d",
   "metadata": {},
   "outputs": [],
   "source": [
    "# Stock returns\n",
    "stockreturn = returns['ICICIBANK']\n",
    "# Calculate mean and standard deviation\n",
    "mean = np.mean(stockreturn)\n",
    "stdev = np.std(stockreturn)\n",
    "# Calculate VaR at difference confidence level\n",
    "VaR_90 = stats.norm.ppf(1-0.90,mean,stdev)\n",
    "VaR_95 = stats.norm.ppf(1-0.95,mean,stdev)\n",
    "VaR_99 = stats.norm.ppf(1-0.99,mean,stdev)"
   ]
  },
  {
   "cell_type": "code",
   "execution_count": null,
   "id": "31e78cf8-30b7-4b8d-8c13-430bd66aa351",
   "metadata": {},
   "outputs": [],
   "source": [
    "# number of stdev from the mean\n",
    "stats.norm.ppf(0.01)"
   ]
  },
  {
   "cell_type": "code",
   "execution_count": null,
   "id": "da4d9f10-459a-4c43-b306-0f640f917b7c",
   "metadata": {},
   "outputs": [],
   "source": [
    "# Ouput results in tabular format\n",
    "table = [['90%', VaR_90],['95%', VaR_95],['99%', VaR_99] ]\n",
    "header = ['Confidence Level', 'Value At Risk']\n",
    "print(tabulate(table,headers=header))"
   ]
  },
  {
   "cell_type": "code",
   "execution_count": null,
   "id": "62348424-cae9-411f-b625-d24a4c9874d6",
   "metadata": {},
   "outputs": [],
   "source": [
    "# Use quantile function for Historical VaR\n",
    "hVaR_90 = returns['ICICIBANK'].quantile(0.10)\n",
    "hVaR_95 = returns['ICICIBANK'].quantile(0.05)\n",
    "hVaR_99 = returns['ICICIBANK'].quantile(0.01)"
   ]
  },
  {
   "cell_type": "code",
   "execution_count": null,
   "id": "2aaba152-6010-4717-ac28-e045c3616d6e",
   "metadata": {},
   "outputs": [],
   "source": [
    "# Ouput results in tabular format\n",
    "htable = [['90%', hVaR_90],['95%', hVaR_95],['99%', hVaR_99]]\n",
    "print(tabulate(htable,headers=header))"
   ]
  },
  {
   "cell_type": "code",
   "execution_count": null,
   "id": "a9f6632a-20e4-4040-bcd3-d26275256d4b",
   "metadata": {},
   "outputs": [],
   "source": [
    "# Set seed for reproducibility\n",
    "np.random.seed(42)\n",
    "\n",
    "# Number of simulations\n",
    "n_sims = 5000\n",
    "\n",
    "# Simulate returns and sort\n",
    "sim_returns = np.random.normal(mean, stdev, n_sims)\n",
    "# Use percentile function for MCVaR\n",
    "MCVaR_90 = np.percentile(sim_returns,10)\n",
    "MCVaR_95 = np.percentile(sim_returns, 5)\n",
    "MCVaR_99 = np.percentile(sim_returns,1)"
   ]
  },
  {
   "cell_type": "code",
   "execution_count": null,
   "id": "9020cae2-a37e-4b1a-98df-5384a503591b",
   "metadata": {},
   "outputs": [],
   "source": [
    "# Ouput results in tabular format\n",
    "mctable = [['90%', MCVaR_90],['95%', MCVaR_95],['99%', MCVaR_99]]\n",
    "print(tabulate(mctable,headers=header))"
   ]
  },
  {
   "cell_type": "code",
   "execution_count": null,
   "id": "21908065-177d-4850-801c-ca9ff0b98c8c",
   "metadata": {},
   "outputs": [],
   "source": [
    "# normality test\n",
    "stats.shapiro(stockreturn)"
   ]
  },
  {
   "cell_type": "code",
   "execution_count": null,
   "id": "9cf5f396-e6ed-4bcb-aea7-f6637772fab7",
   "metadata": {},
   "outputs": [],
   "source": [
    "# normality test\n",
    "stats.anderson(stockreturn)"
   ]
  },
  {
   "cell_type": "code",
   "execution_count": null,
   "id": "0cad3416-474b-4929-ad06-95add81fbaa9",
   "metadata": {},
   "outputs": [],
   "source": [
    "# Plot histogram\n",
    "px.histogram(returns,\n",
    "    histnorm='probability density',\n",
    "    title='Histogram of Returns',\n",
    "    barmode='relative')"
   ]
  },
  {
   "cell_type": "code",
   "execution_count": null,
   "id": "fcf1457e-a60e-42d5-ad85-e343e5cec72c",
   "metadata": {},
   "outputs": [],
   "source": [
    "# First four moments\n",
    "dist = OrderedDict({\n",
    "    'Mean': np.mean(returns['ICICIBANK']),\n",
    "    'Variance': np.std(returns['ICICIBANK']),\n",
    "    'Skew': stats.skew(returns['ICICIBANK']),\n",
    "    'Kurtosis': stats.kurtosis(returns['ICICIBANK'])\n",
    "    })\n",
    "\n",
    "pprint(dist)"
   ]
  },
  {
   "cell_type": "code",
   "execution_count": null,
   "id": "942b3614-0041-43c8-a1ba-fa4288db01a0",
   "metadata": {},
   "outputs": [],
   "source": [
    "# Specify params for modified VaR\n",
    "z = abs(stats.norm.ppf(0.01))\n",
    "s = stats.skew(stockreturn)\n",
    "k = stats.kurtosis(stockreturn)\n",
    "t = z+1/6*(z**2-1)*s+1/24*(z**3-3*z)*k-1/36*(2*z**3-5*z)*s**2\n",
    "\n",
    "# Calculate VaR at difference confidence level\n",
    "mVaR_99 = (mean-t*stdev)\n",
    "mVaR_99"
   ]
  },
  {
   "cell_type": "code",
   "execution_count": null,
   "id": "c29f5223-94cd-4ee3-97a7-01bce670a6e9",
   "metadata": {},
   "outputs": [],
   "source": [
    "# VaR Scaling\n",
    "forecast_days = 5\n",
    "f_VaR_90 = VaR_90*np.sqrt(forecast_days)\n",
    "f_VaR_95 = VaR_95*np.sqrt(forecast_days)\n",
    "f_VaR_99 = VaR_99*np.sqrt(forecast_days)"
   ]
  },
  {
   "cell_type": "code",
   "execution_count": null,
   "id": "c2ddcf6b-81c6-4cd5-bdaf-347ab59f3b56",
   "metadata": {},
   "outputs": [],
   "source": [
    "# Ouput results in tabular format\n",
    "ftable = [['90%', f_VaR_90],['95%', f_VaR_95],['99%', f_VaR_99] ]\n",
    "fheader = ['Confidence Level', '5-Day Forecast Value At Risk']\n",
    "print(tabulate(ftable,headers=fheader))"
   ]
  },
  {
   "cell_type": "code",
   "execution_count": null,
   "id": "a84d0894-0c03-440a-83db-58cefd9eff57",
   "metadata": {},
   "outputs": [],
   "source": [
    "# Plot Scaled VaR\n",
    "sVaR = pd.DataFrame([-100*VaR_99*np.sqrt(x) for x in range(100)], columns=['ScaledVaR'])\n",
    "px.scatter(sVaR, sVaR.index,'ScaledVaR',title='Scaled VaR', labels={'index':'Horizon'})"
   ]
  },
  {
   "cell_type": "code",
   "execution_count": null,
   "id": "b8305d0b-723f-4f3b-9805-d92dad004aeb",
   "metadata": {},
   "outputs": [],
   "source": [
    "# Calculate CVar\n",
    "CVaR_90 = returns['ICICIBANK'][returns['ICICIBANK']<=hVaR_90].mean()\n",
    "CVaR_95 = returns['ICICIBANK'][returns['ICICIBANK']<=hVaR_95].mean()\n",
    "CVaR_99 = returns['ICICIBANK'][returns['ICICIBANK']<=hVaR_99].mean()"
   ]
  },
  {
   "cell_type": "code",
   "execution_count": null,
   "id": "c814f7b0-4885-4c34-905f-38c4765f48d5",
   "metadata": {},
   "outputs": [],
   "source": [
    "# Ouput results in tabular format\n",
    "ctable = [['90%', CVaR_90],['95%', CVaR_95],['99%', CVaR_99] ]\n",
    "cheader = ['Confidence Level', 'Conditional Value At Risk']\n",
    "print(tabulate(ctable,headers=cheader))"
   ]
  },
  {
   "cell_type": "code",
   "execution_count": null,
   "id": "5ac61bdb-fd9a-4d6e-aacd-2667497ca478",
   "metadata": {},
   "outputs": [],
   "source": [
    "# Weights from Minimum Variance Portfolio\n",
    "wts = np.array([2.553e-01, 4.434e-02, 2.944e-01, 8.664e-02, 3.193e-01])\n",
    "\n",
    "# Portfolio mean returns and volatility\n",
    "port_mean = wts.T @ returns.mean()\n",
    "port_stdev = np.sqrt(multi_dot([wts.T, returns.cov(), wts]))\n",
    "pVaR = stats.norm.ppf(1-0.99, port_mean, port_stdev)\n",
    "\n",
    "print(f\"Mean: {port_mean}, Stdev: {port_stdev}, pVaR: {pVaR}\")"
   ]
  },
  {
   "cell_type": "code",
   "execution_count": null,
   "id": "b2be2526-aa46-4017-b5f2-8e1e06310542",
   "metadata": {},
   "outputs": [],
   "source": [
    "# Import arch library\n",
    "from arch import arch_model"
   ]
  },
  {
   "cell_type": "code",
   "execution_count": null,
   "id": "a769becf-81e5-448c-adc7-01323834a795",
   "metadata": {},
   "outputs": [],
   "source": [
    "# Mean zero\n",
    "g1 = arch_model(stockreturn, vol='GARCH', mean='Zero', p=1, q=1, dist='Normal')\n",
    "model = g1.fit()"
   ]
  },
  {
   "cell_type": "code",
   "execution_count": null,
   "id": "21d1fee1-03e6-4d0c-976d-fca0cc413023",
   "metadata": {},
   "outputs": [],
   "source": [
    "# Model output\n",
    "print(model)"
   ]
  },
  {
   "cell_type": "code",
   "execution_count": null,
   "id": "36b5e1ce-f032-4930-96b6-7c2705aa36ca",
   "metadata": {},
   "outputs": [],
   "source": [
    "model.summary()"
   ]
  },
  {
   "cell_type": "code",
   "execution_count": null,
   "id": "16a3ecd5-dffb-4d70-a5dc-c63d5a12bf42",
   "metadata": {},
   "outputs": [],
   "source": [
    "# Model params\n",
    "model.params"
   ]
  },
  {
   "cell_type": "code",
   "execution_count": null,
   "id": "11ade8b7-1a62-4ece-88d5-359c663cae04",
   "metadata": {},
   "outputs": [],
   "source": [
    "# Model Confidence Interval\n",
    "model.conf_int(alpha=.01)"
   ]
  },
  {
   "cell_type": "code",
   "execution_count": null,
   "id": "6b504739-71ca-4c82-adee-167a3403a820",
   "metadata": {},
   "outputs": [],
   "source": [
    "# Plot annualised vol\n",
    "fig = model.plot(annualize='D')"
   ]
  },
  {
   "cell_type": "code",
   "execution_count": null,
   "id": "6a12ac7b-e976-4b22-b13a-b3e7b535a028",
   "metadata": {},
   "outputs": [],
   "source": [
    "# Forecast for next 5 days\n",
    "model_forecast = model.forecast(horizon=60)\n",
    "\n",
    "# Plot forecasted volatility\n",
    "fdf = pd.DataFrame(np.sqrt(model_forecast.variance.dropna().T *252)*100)\n",
    "fdf.columns = ['Cond_Vol']\n",
    "px.scatter(fdf, fdf.index, 'Cond_Vol', labels={'index':'Horizon'}, title='GARCH Volatility Forecast')"
   ]
  },
  {
   "cell_type": "code",
   "execution_count": null,
   "id": "0ac4ae5e-937b-4246-85f0-8f9ae6993a31",
   "metadata": {},
   "outputs": [],
   "source": []
  },
  {
   "cell_type": "code",
   "execution_count": null,
   "id": "1d2832e3-f2d2-46ec-9f66-f7ec519cf1a8",
   "metadata": {},
   "outputs": [],
   "source": []
  },
  {
   "cell_type": "code",
   "execution_count": null,
   "id": "187ffd0b-5c49-45fa-b269-d9a0496befb4",
   "metadata": {},
   "outputs": [],
   "source": []
  },
  {
   "cell_type": "code",
   "execution_count": null,
   "id": "6d15f82e-6b44-4f57-aab8-381e33844f0f",
   "metadata": {},
   "outputs": [],
   "source": []
  }
 ],
 "metadata": {
  "kernelspec": {
   "display_name": "Python 3 (ipykernel)",
   "language": "python",
   "name": "python3"
  },
  "language_info": {
   "codemirror_mode": {
    "name": "ipython",
    "version": 3
   },
   "file_extension": ".py",
   "mimetype": "text/x-python",
   "name": "python",
   "nbconvert_exporter": "python",
   "pygments_lexer": "ipython3",
   "version": "3.11.3"
  }
 },
 "nbformat": 4,
 "nbformat_minor": 5
}
